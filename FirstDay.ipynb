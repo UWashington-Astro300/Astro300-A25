{
 "cells": [
  {
   "cell_type": "markdown",
   "id": "b4188a02-c396-4ef6-965d-50b309c08a04",
   "metadata": {},
   "source": [
    "# Astronomy 300 - Autumn 2025\n",
    "\n",
    "### This is a Markdown cell"
   ]
  },
  {
   "cell_type": "raw",
   "id": "f292e549-cb45-4db7-8cc3-25fa0fe7f7e0",
   "metadata": {},
   "source": [
    "This is a Raw cell"
   ]
  },
  {
   "cell_type": "code",
   "execution_count": null,
   "id": "d24626eb-af9e-4d41-bbca-07b696d3637b",
   "metadata": {},
   "outputs": [],
   "source": [
    "print(\"This is another Code cell\")"
   ]
  },
  {
   "cell_type": "code",
   "execution_count": 6,
   "id": "64f38f48-7bd9-4bc1-9fa0-137dce8b5a04",
   "metadata": {
    "tags": []
   },
   "outputs": [
    {
     "name": "stdout",
     "output_type": "stream",
     "text": [
      "This is Code cell\n"
     ]
    }
   ],
   "source": [
    "print(\"This is Code cell\")"
   ]
  },
  {
   "cell_type": "markdown",
   "id": "7fb742ab-6d0e-4205-a6dc-90b0419532e8",
   "metadata": {},
   "source": [
    "## Some words"
   ]
  },
  {
   "cell_type": "code",
   "execution_count": null,
   "id": "8796b2a5-437f-47cd-91b0-e95da765e023",
   "metadata": {},
   "outputs": [],
   "source": []
  }
 ],
 "metadata": {
  "kernelspec": {
   "display_name": "Python 3 (ipykernel)",
   "language": "python",
   "name": "python3"
  },
  "language_info": {
   "codemirror_mode": {
    "name": "ipython",
    "version": 3
   },
   "file_extension": ".py",
   "mimetype": "text/x-python",
   "name": "python",
   "nbconvert_exporter": "python",
   "pygments_lexer": "ipython3",
   "version": "3.11.9"
  }
 },
 "nbformat": 4,
 "nbformat_minor": 5
}
